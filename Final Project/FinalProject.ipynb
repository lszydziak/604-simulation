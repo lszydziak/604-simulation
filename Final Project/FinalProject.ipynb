{
 "cells": [
  {
   "cell_type": "markdown",
   "metadata": {},
   "source": [
    "# DATA 604 - FINAL PROJECT :  SIMULATION OF DMV WAIT TIMES\n",
    "\n",
    "## Lisa Szydziak\n",
    "## July 12, 2022\n",
    "\n",
    "\n"
   ]
  },
  {
   "cell_type": "markdown",
   "metadata": {},
   "source": [
    "### Problem:\n",
    "\n",
    "Using SimPy, write a process simulation that includes waiting time (discrete event simulation). You may use any topic of interest to you. Write the simulation and all of the following in Jupyter.\n",
    "\n",
    "Each element is worth 5 points and will be graded using the rubric shown here.\n",
    "\n",
    "**1. State the problem and its significance.**\n"
   ]
  },
  {
   "cell_type": "markdown",
   "metadata": {},
   "source": [
    "Waiting in line at the department of motor vehicles or motor vehicle registry is a necessity of modern day living which is unavoidable. Customers dread this situation in which you must appear in person because of the insanely long waits at the registry. \n",
    "\n",
    "Simulate wait time at the Department of Motor Vehicles (DMV).  This information can be helpful in reducing wait time by adding additional servers at busy times when wait times are expected to exceed a reasonable time.\n",
    "\n",
    "Let's take a look at a couple of simulations using 1,3 servers based on exponential customer arrival times and service times and plot the results."
   ]
  },
  {
   "cell_type": "markdown",
   "metadata": {},
   "source": [
    "**2.  Provide a flow-chart model.**"
   ]
  },
  {
   "cell_type": "markdown",
   "metadata": {},
   "source": [
    "The flow chart below depicts the flow of a customer at the DMV."
   ]
  },
  {
   "cell_type": "code",
   "execution_count": 1,
   "metadata": {},
   "outputs": [
    {
     "data": {
      "image/png": "[encoded data removed]",
      "text/plain": [
       "<IPython.core.display.Image object>"
      ]
     },
     "execution_count": 1,
     "metadata": {
      "image/png": {
       "height": 100,
       "width": 200
      }
     },
     "output_type": "execute_result"
    }
   ],
   "source": [
    "from IPython.display import Image\n",
    "Image(filename = \"flow1.png\", width = 200, height = 100)"
   ]
  },
  {
   "cell_type": "markdown",
   "metadata": {},
   "source": [
    "In order to reduce the wait time in this model, adding more servers that service the single line will result in lower wait times and shorter lines. This can be seen in the two side by side flow charts.  For example, the left chart is a single server and the right chart displays 3 servers.  "
   ]
  },
  {
   "cell_type": "code",
   "execution_count": 2,
   "metadata": {},
   "outputs": [
    {
     "data": {
      "image/png": "[encoded data removed]",
      "text/plain": [
       "<IPython.core.display.Image object>"
      ]
     },
     "execution_count": 2,
     "metadata": {
      "image/png": {
       "height": 300,
       "width": 600
      }
     },
     "output_type": "execute_result"
    }
   ],
   "source": [
    "\n",
    "Image(filename = \"flow2a.png\", width = 600, height = 300)"
   ]
  },
  {
   "cell_type": "markdown",
   "metadata": {},
   "source": [
    "Let's try to simulate the model with 1 server, then repeat with 3 servers.\n",
    "\n",
    "Suppose we are given the information:\n",
    "    \n",
    "    The average time to serve a customer is 10 minutes, or in order words, .1 customers are served per minute.\n",
    "    \n",
    "    The average time between customers arriving is 3.3 minutes, or .3 customers arrive per minute.\n",
    "    \n",
    "Let's assume these times are exponetially distributed.\n"
   ]
  },
  {
   "cell_type": "markdown",
   "metadata": {},
   "source": [
    "**3.  Simulate the process for the appropriate number of iterations (justify)**\n",
    "\n",
    "Try the simulation with 1 server..............\n",
    "\n",
    "The simulation was run several times, but a random seed was set for descriptive purposes."
   ]
  },
  {
   "cell_type": "code",
   "execution_count": 3,
   "metadata": {},
   "outputs": [],
   "source": [
    "import simpy\n",
    "import numpy as np\n",
    "import random\n",
    "import matplotlib.pyplot as plt"
   ]
  },
  {
   "cell_type": "code",
   "execution_count": 4,
   "metadata": {},
   "outputs": [
    {
     "name": "stdout",
     "output_type": "stream",
     "text": [
      "0.14624127844428425 customer 1 arrives\n",
      "0.14624127844428425 customer 1 is being served\n",
      "0.41854463050909413 customer 2 arrives\n",
      "0.608589561988669 customer 3 arrives\n",
      "1.5900317205020897 customer 4 arrives\n",
      "1.93899649915988 customer 1 departs\n",
      "1.93899649915988 customer 2 is being served\n",
      "2.2802460271838054 customer 5 arrives\n",
      "6.762223993436342 customer 2 departs\n",
      "6.762223993436342 customer 3 is being served\n",
      "6.776627034487789 customer 6 arrives\n",
      "7.502117961346676 customer 7 arrives\n",
      "26.989735817615298 customer 3 departs\n",
      "26.989735817615298 customer 4 is being served\n",
      "29.04117180233679 customer 4 departs\n",
      "29.04117180233679 customer 5 is being served\n",
      "31.50452355609548 customer 8 arrives\n",
      "33.04986993117447 customer 9 arrives\n",
      "34.46129862802505 customer 5 departs\n",
      "34.46129862802505 customer 6 is being served\n",
      "35.42479396021173 customer 6 departs\n",
      "35.42479396021173 customer 7 is being served\n",
      "39.6864574051166 customer 7 departs\n",
      "39.6864574051166 customer 8 is being served\n",
      "44.20849873861552 customer 10 arrives\n",
      "44.6595635625325 customer 11 arrives\n",
      "45.26653553658929 customer 8 departs\n",
      "45.26653553658929 customer 9 is being served\n",
      "45.479904263921895 customer 9 departs\n",
      "45.479904263921895 customer 10 is being served\n",
      "54.144634625081444 customer 12 arrives\n",
      "54.39687504441497 customer 10 departs\n",
      "54.39687504441497 customer 11 is being served\n",
      "54.78210953463593 customer 13 arrives\n",
      "55.52789946860937 customer 14 arrives\n",
      "56.416449092339896 customer 15 arrives\n",
      "64.96873108044686 customer 16 arrives\n",
      "69.21144147409765 customer 17 arrives\n",
      "70.06798199790241 customer 11 departs\n",
      "70.06798199790241 customer 12 is being served\n",
      "72.3191934452534 customer 18 arrives\n",
      "73.50040895382507 customer 12 departs\n",
      "73.50040895382507 customer 13 is being served\n",
      "77.28178463630428 customer 13 departs\n",
      "77.28178463630428 customer 14 is being served\n",
      "88.98650316033552 customer 19 arrives\n",
      "91.28792658832768 customer 20 arrives\n",
      "91.69348312121289 customer 21 arrives\n",
      "93.05738129968852 customer 22 arrives\n",
      "99.99888360832541 customer 23 arrives\n",
      "100.23089566428226 customer 14 departs\n",
      "100.23089566428226 customer 15 is being served\n",
      "108.1999123905905 customer 24 arrives\n",
      "110.82533554171167 customer 25 arrives\n",
      "113.08646792976603 customer 26 arrives\n",
      "116.72446256592666 customer 27 arrives\n"
     ]
    }
   ],
   "source": [
    "NUMBER_OF_EMPLOYEES1=1\n",
    "CUSTOMERS_SERVED_PER_MINUTE1=.1\n",
    "CUSTOMERS_ARRIVING_PER_MINUTE1=.3\n",
    "SIMULATION_TIME1=120\n",
    "\n",
    "\n",
    "customer_arrived=0\n",
    "customer_with_server=0\n",
    "customers_handled=0\n",
    "\n",
    "\n",
    "\n",
    "def generate_interarrival():\n",
    "    return np.random.exponential(1./CUSTOMERS_ARRIVING_PER_MINUTE1)\n",
    "\n",
    "def generate_service():\n",
    "    return np.random.exponential(1./CUSTOMERS_SERVED_PER_MINUTE1)\n",
    "\n",
    "def registry(env,servers):\n",
    "    i=0\n",
    "    while True:\n",
    "        i += 1\n",
    "        yield env.timeout(generate_interarrival())\n",
    "        env.process(customer(env,i, servers))\n",
    "        \n",
    "\n",
    "       \n",
    "wait_t=[]\n",
    "\n",
    "\n",
    "def customer(env,customer, servers):\n",
    "    global customers_handled\n",
    "    global customers_arrived\n",
    "    global customer_with_server\n",
    "    with servers.request() as request:\n",
    "        t_arrival=env.now\n",
    "        print (env.now, 'customer {} arrives'.format(customer))\n",
    "        customers_arrived=customer\n",
    "        yield request\n",
    "        print (env.now, 'customer {} is being served'.format(customer))\n",
    "        customer_with_server=customer\n",
    "        yield env.timeout(generate_service())\n",
    "        print (env.now, 'customer {} departs'.format(customer))\n",
    "        t_depart=env.now\n",
    "        wait_t.append(t_depart-t_arrival)\n",
    "        customers_handled=customer\n",
    "        \n",
    "        \n",
    "        \n",
    "obs_times=[]\n",
    "q_length=[]\n",
    "\n",
    "def observe(env, servers):\n",
    "    while True:\n",
    "        obs_times.append(env.now)\n",
    "        q_length.append(len(servers.queue))\n",
    "        yield env.timeout(0.5)\n",
    "\n",
    "np.random.seed(24400)\n",
    "        \n",
    "env=simpy.Environment()\n",
    "\n",
    "servers=simpy.Resource(env, capacity=NUMBER_OF_EMPLOYEES1)\n",
    "\n",
    "env.process(registry(env,servers))\n",
    "env.process(observe(env,servers))\n",
    "            \n",
    "            \n",
    "env.run(until=SIMULATION_TIME1)\n",
    "            \n",
    "\n",
    "      \n",
    "\n"
   ]
  },
  {
   "cell_type": "code",
   "execution_count": 5,
   "metadata": {},
   "outputs": [
    {
     "name": "stdout",
     "output_type": "stream",
     "text": [
      "Customers_handled (1 server): 14\n",
      "Customers_arrived (1 server): 27\n",
      "CustomerID_with_service (1 server): 15\n",
      "Length of queue (1 server): 12\n",
      "Average Customer Wait time (1 server): 21.666397612281052\n"
     ]
    }
   ],
   "source": [
    "print(\"Customers_handled (1 server): \" +str(customers_handled))\n",
    "print(\"Customers_arrived (1 server): \" +str(customers_arrived))\n",
    "print(\"CustomerID_with_service (1 server): \" +str(customer_with_server))\n",
    "print(\"Length of queue (1 server): \" +str(customers_arrived-customer_with_server))\n",
    "print(\"Average Customer Wait time (1 server): \" +str(sum(wait_t)/customers_handled))"
   ]
  },
  {
   "cell_type": "raw",
   "metadata": {},
   "source": [
    "In 120 minutes, 27 customers arrived, with 14 customers served and departed.  The line at the end of the simulation is of length 12.  \n",
    "\n",
    "Let's take a look at the mean time of those served.  Although the wait time is 21.6, it is important to note that these are wait times for those customers already departed, and more importantly, 12 still remain in the queue.\n",
    "\n",
    "\n"
   ]
  },
  {
   "cell_type": "markdown",
   "metadata": {},
   "source": [
    "**Generate appropriate graphs (more than one) to illustrate the results**"
   ]
  },
  {
   "cell_type": "code",
   "execution_count": 6,
   "metadata": {},
   "outputs": [
    {
     "data": {
      "text/plain": [
       "Text(0.5, 1.0, 'WAITING TIME OF CUSTOMERS  - 1 server')"
      ]
     },
     "execution_count": 6,
     "metadata": {},
     "output_type": "execute_result"
    },
    {
     "data": {
      "image/png": "[encoded data removed]",
      "text/plain": [
       "<Figure size 432x288 with 1 Axes>"
      ]
     },
     "metadata": {
      "needs_background": "light"
     },
     "output_type": "display_data"
    }
   ],
   "source": [
    "plt.figure()\n",
    "plt.hist(wait_t)\n",
    "plt.xlabel('Waiting time (min)')\n",
    "plt.ylabel('Number of Customer')\n",
    "plt.title(\"WAITING TIME OF CUSTOMERS  - 1 server\")"
   ]
  },
  {
   "cell_type": "markdown",
   "metadata": {},
   "source": [
    "At the opening of the DMV, there is no line.  In this system, the line and therefore the wait time will increase if customers are not serviced in an adequate amount of time.  \n",
    "\n",
    "With the notion in mind that the line is growing, let's take a look at the length of the line over time."
   ]
  },
  {
   "cell_type": "code",
   "execution_count": 7,
   "metadata": {},
   "outputs": [
    {
     "data": {
      "text/plain": [
       "Text(0.5, 1.0, 'LENGTH OF QUEUE AT GIVEN TIME - 1 server')"
      ]
     },
     "execution_count": 7,
     "metadata": {},
     "output_type": "execute_result"
    },
    {
     "data": {
      "image/png": "[encoded data removed]",
      "text/plain": [
       "<Figure size 432x288 with 1 Axes>"
      ]
     },
     "metadata": {
      "needs_background": "light"
     },
     "output_type": "display_data"
    }
   ],
   "source": [
    "plt.figure()\n",
    "plt.step(obs_times,q_length,where='post')\n",
    "plt.xlabel('Time(min)')\n",
    "plt.ylabel('Queue Length')\n",
    "plt.title(\"LENGTH OF QUEUE AT GIVEN TIME - 1 server\")"
   ]
  },
  {
   "cell_type": "raw",
   "metadata": {},
   "source": [
    "The line starts to grow quite starkly."
   ]
  },
  {
   "cell_type": "markdown",
   "metadata": {},
   "source": [
    "This situation is not going to work, let's add another server to our simulation."
   ]
  },
  {
   "cell_type": "code",
   "execution_count": 14,
   "metadata": {},
   "outputs": [
    {
     "data": {
      "text/plain": [
       "<Process(observe) object at 0x207b044ffd0>"
      ]
     },
     "execution_count": 14,
     "metadata": {},
     "output_type": "execute_result"
    }
   ],
   "source": [
    "NUMBER_OF_EMPLOYEES2=2\n",
    "CUSTOMERS_SERVED_PER_MINUTE2=.1\n",
    "CUSTOMERS_ARRIVING_PER_MINUTE2=.3\n",
    "SIMULATION_TIME2=120\n",
    "\n",
    "\n",
    "customer_arrived2=0\n",
    "customer_with_server2=0\n",
    "customers_handled2=0\n",
    "\n",
    "\n",
    "def generate_interarrival():\n",
    "    return np.random.exponential(1./CUSTOMERS_ARRIVING_PER_MINUTE2)\n",
    "\n",
    "def generate_service():\n",
    "    return np.random.exponential(1./CUSTOMERS_SERVED_PER_MINUTE2)\n",
    "\n",
    "def registry(env,servers):\n",
    "    i=0\n",
    "    while True:\n",
    "        i += 1\n",
    "        yield env.timeout(generate_interarrival())\n",
    "        env.process(customer(env,i, servers))\n",
    "        \n",
    "\n",
    "       \n",
    "wait_t=[]\n",
    "\n",
    "\n",
    "def customer(env,customer, servers):\n",
    "    global customers_handled2\n",
    "    global customers_arrived2\n",
    "    global customer_with_server2\n",
    "    with servers.request() as request:\n",
    "        t_arrival=env.now\n",
    "        print (env.now, 'customer {} arrives'.format(customer))\n",
    "        customers_arrived2=customer\n",
    "        yield request\n",
    "        print (env.now, 'customer {} is being served'.format(customer))\n",
    "        customer_with_server2=customer\n",
    "        yield env.timeout(generate_service())\n",
    "        print (env.now, 'customer {} departs'.format(customer))\n",
    "        t_depart=env.now\n",
    "        wait_t.append(t_depart-t_arrival)\n",
    "        customers_handled2=customer\n",
    "        \n",
    "        \n",
    "        \n",
    "obs_times=[]\n",
    "q_length=[]\n",
    "\n",
    "def observe(env, servers):\n",
    "    while True:\n",
    "        obs_times.append(env.now)\n",
    "        q_length.append(len(servers.queue))\n",
    "        yield env.timeout(0.5)\n",
    "\n",
    "np.random.seed(24400)\n",
    "        \n",
    "env=simpy.Environment()\n",
    "\n",
    "servers=simpy.Resource(env, capacity=NUMBER_OF_EMPLOYEES2)\n",
    "\n",
    "env.process(registry(env,servers))\n",
    "env.process(observe(env,servers))\n",
    "            \n",
    "            \n"
   ]
  },
  {
   "cell_type": "code",
   "execution_count": 15,
   "metadata": {},
   "outputs": [
    {
     "name": "stdout",
     "output_type": "stream",
     "text": [
      "0.14624127844428425 customer 1 arrives\n",
      "0.14624127844428425 customer 1 is being served\n",
      "0.41854463050909413 customer 2 arrives\n",
      "0.41854463050909413 customer 2 is being served\n",
      "0.608589561988669 customer 3 arrives\n",
      "1.2988038686703849 customer 4 arrives\n",
      "1.93899649915988 customer 1 departs\n",
      "1.93899649915988 customer 3 is being served\n",
      "2.9065463667625386 customer 5 arrives\n",
      "3.3628711060493566 customer 2 departs\n",
      "3.3628711060493566 customer 4 is being served\n",
      "5.539343886626019 customer 4 departs\n",
      "5.539343886626019 customer 5 is being served\n",
      "9.649050308155525 customer 6 arrives\n",
      "10.33286230306269 customer 7 arrives\n",
      "12.139571244958777 customer 8 arrives\n",
      "13.684917620037764 customer 9 arrives\n",
      "15.42813952107183 customer 3 departs\n",
      "15.42813952107183 customer 6 is being served\n",
      "16.391634853258516 customer 6 departs\n",
      "16.391634853258516 customer 7 is being served\n",
      "20.653298298163385 customer 7 departs\n",
      "20.653298298163385 customer 8 is being served\n",
      "24.843546427478813 customer 10 arrives\n",
      "25.29461125139579 customer 11 arrives\n",
      "26.233376429636074 customer 8 departs\n",
      "26.233376429636074 customer 9 is being served\n",
      "26.446745156968685 customer 9 departs\n",
      "26.446745156968685 customer 10 is being served\n",
      "34.77968231394473 customer 12 arrives\n",
      "35.363715937461755 customer 10 departs\n",
      "35.363715937461755 customer 11 is being served\n",
      "35.41715722349922 customer 13 arrives\n",
      "36.16294715747266 customer 14 arrives\n",
      "37.051496781203184 customer 15 arrives\n",
      "45.603778769310146 customer 16 arrives\n",
      "49.846489162960935 customer 17 arrives\n",
      "51.034822890949194 customer 11 departs\n",
      "51.034822890949194 customer 12 is being served\n",
      "52.954241134116685 customer 18 arrives\n",
      "54.46724984687185 customer 12 departs\n",
      "54.46724984687185 customer 13 is being served\n",
      "58.24862552935107 customer 13 departs\n",
      "58.24862552935107 customer 14 is being served\n",
      "69.6215508491988 customer 19 arrives\n",
      "71.92297427719096 customer 20 arrives\n",
      "72.32853081007617 customer 21 arrives\n",
      "73.6924289885518 customer 22 arrives\n",
      "77.54656067087242 customer 5 departs\n",
      "77.54656067087242 customer 15 is being served\n",
      "80.6339312971887 customer 23 arrives\n",
      "81.19773655732904 customer 14 departs\n",
      "81.19773655732904 customer 16 is being served\n",
      "88.43388983420304 customer 24 arrives\n",
      "89.07400601069256 customer 16 departs\n",
      "89.07400601069256 customer 17 is being served\n",
      "90.6950222222574 customer 25 arrives\n",
      "95.20512555927102 customer 26 arrives\n",
      "99.98798991917444 customer 17 departs\n",
      "99.98798991917444 customer 18 is being served\n",
      "100.66155227587748 customer 18 departs\n",
      "100.66155227587748 customer 19 is being served\n",
      "101.27096925162506 customer 27 arrives\n",
      "102.14964701766769 customer 15 departs\n",
      "102.14964701766769 customer 20 is being served\n",
      "102.95272232307781 customer 28 arrives\n",
      "108.16026324413231 customer 19 departs\n",
      "108.16026324413231 customer 21 is being served\n",
      "109.42921380944175 customer 29 arrives\n",
      "109.75600924290232 customer 30 arrives\n",
      "118.33125833552839 customer 31 arrives\n",
      "118.4838891609887 customer 21 departs\n",
      "118.4838891609887 customer 22 is being served\n"
     ]
    }
   ],
   "source": [
    "env.run(until=SIMULATION_TIME2)"
   ]
  },
  {
   "cell_type": "code",
   "execution_count": 16,
   "metadata": {},
   "outputs": [
    {
     "name": "stdout",
     "output_type": "stream",
     "text": [
      "Customers_handled (2 server): 21\n",
      "Customers_arrived (2 server): 31\n",
      "CustomerID_with_service (2 server): 22\n",
      "Length of queue (2 server): 9\n",
      "Average Customer Wait time (2 server): 26.537205035669302\n"
     ]
    },
    {
     "data": {
      "text/plain": [
       "Text(0.5, 1.0, 'LENGTH OF QUEUE AT GIVEN TIME - 2 SERVER MODEL')"
      ]
     },
     "execution_count": 16,
     "metadata": {},
     "output_type": "execute_result"
    },
    {
     "data": {
      "image/png": "[encoded data removed]",
      "text/plain": [
       "<Figure size 432x288 with 1 Axes>"
      ]
     },
     "metadata": {
      "needs_background": "light"
     },
     "output_type": "display_data"
    },
    {
     "data": {
      "image/png": "[encoded data removed]",
      "text/plain": [
       "<Figure size 432x288 with 1 Axes>"
      ]
     },
     "metadata": {
      "needs_background": "light"
     },
     "output_type": "display_data"
    }
   ],
   "source": [
    "print(\"Customers_handled (2 server): \" +str(customers_handled2))\n",
    "print(\"Customers_arrived (2 server): \" +str(customers_arrived2))\n",
    "print(\"CustomerID_with_service (2 server): \" +str(customer_with_server2))\n",
    "print(\"Length of queue (2 server): \" +str(customers_arrived2-customer_with_server2))\n",
    "print(\"Average Customer Wait time (2 server): \" +str(sum(wait_t)/customers_handled2))\n",
    "\n",
    "plt.figure()\n",
    "plt.hist(wait_t)\n",
    "plt.xlabel('Waiting time (min)')\n",
    "plt.ylabel('Number of Customer')\n",
    "plt.title(\"WAITING TIME OF CUSTOMERS - 2 SERVER MODEL\")\n",
    "\n",
    "plt.figure()\n",
    "plt.step(obs_times,q_length,where='post')\n",
    "plt.xlabel('Time(min)')\n",
    "plt.ylabel('Queue Length')\n",
    "plt.title(\"LENGTH OF QUEUE AT GIVEN TIME - 2 SERVER MODEL\")\n",
    "\n"
   ]
  },
  {
   "cell_type": "markdown",
   "metadata": {},
   "source": [
    " The 2 server model shown above resulted in the queue length growing markedly.\n",
    " \n",
    " Let's try 3 server's..................."
   ]
  },
  {
   "cell_type": "code",
   "execution_count": 17,
   "metadata": {},
   "outputs": [
    {
     "data": {
      "text/plain": [
       "<Process(observe) object at 0x207b0535c40>"
      ]
     },
     "execution_count": 17,
     "metadata": {},
     "output_type": "execute_result"
    }
   ],
   "source": [
    "NUMBER_OF_EMPLOYEES3=3\n",
    "CUSTOMERS_SERVED_PER_MINUTE3=.1\n",
    "CUSTOMERS_ARRIVING_PER_MINUTE3=.3\n",
    "SIMULATION_TIME3=120\n",
    "\n",
    "\n",
    "customer_arrived3=0\n",
    "customer_with_server3=0\n",
    "customers_handled3=0\n",
    "\n",
    "\n",
    "def generate_interarrival():\n",
    "    return np.random.exponential(1./CUSTOMERS_ARRIVING_PER_MINUTE3)\n",
    "\n",
    "def generate_service():\n",
    "    return np.random.exponential(1./CUSTOMERS_SERVED_PER_MINUTE3)\n",
    "\n",
    "def registry(env,servers):\n",
    "    i=0\n",
    "    while True:\n",
    "        i += 1\n",
    "        yield env.timeout(generate_interarrival())\n",
    "        env.process(customer(env,i, servers))\n",
    "        \n",
    "\n",
    "       \n",
    "wait_t=[]\n",
    "\n",
    "\n",
    "def customer(env,customer, servers):\n",
    "    global customers_handled3\n",
    "    global customers_arrived3\n",
    "    global customer_with_server3\n",
    "    with servers.request() as request:\n",
    "        t_arrival=env.now\n",
    "        print (env.now, 'customer {} arrives'.format(customer))\n",
    "        customers_arrived3=customer\n",
    "        yield request\n",
    "        print (env.now, 'customer {} is being served'.format(customer))\n",
    "        customer_with_server3=customer\n",
    "        yield env.timeout(generate_service())\n",
    "        print (env.now, 'customer {} departs'.format(customer))\n",
    "        t_depart=env.now\n",
    "        wait_t.append(t_depart-t_arrival)\n",
    "        customers_handled3=customer\n",
    "        \n",
    "        \n",
    "        \n",
    "obs_times=[]\n",
    "q_length=[]\n",
    "\n",
    "def observe(env, servers):\n",
    "    while True:\n",
    "        obs_times.append(env.now)\n",
    "        q_length.append(len(servers.queue))\n",
    "        yield env.timeout(0.5)\n",
    "\n",
    "np.random.seed(24400)\n",
    "        \n",
    "env=simpy.Environment()\n",
    "\n",
    "servers=simpy.Resource(env, capacity=NUMBER_OF_EMPLOYEES3)\n",
    "\n",
    "env.process(registry(env,servers))\n",
    "env.process(observe(env,servers))\n",
    "            \n",
    "            \n"
   ]
  },
  {
   "cell_type": "code",
   "execution_count": 18,
   "metadata": {},
   "outputs": [
    {
     "name": "stdout",
     "output_type": "stream",
     "text": [
      "0.14624127844428425 customer 1 arrives\n",
      "0.14624127844428425 customer 1 is being served\n",
      "0.41854463050909413 customer 2 arrives\n",
      "0.41854463050909413 customer 2 is being served\n",
      "0.608589561988669 customer 3 arrives\n",
      "0.608589561988669 customer 3 is being served\n",
      "1.2988038686703849 customer 4 arrives\n",
      "1.93899649915988 customer 1 departs\n",
      "1.93899649915988 customer 4 is being served\n",
      "3.3628711060493566 customer 2 departs\n",
      "5.431817056265131 customer 3 departs\n",
      "5.7951848759743685 customer 5 arrives\n",
      "5.7951848759743685 customer 5 is being served\n",
      "6.520675802833256 customer 6 arrives\n",
      "6.520675802833256 customer 6 is being served\n",
      "7.204487797740421 customer 7 arrives\n",
      "8.749834172819408 customer 8 arrives\n",
      "11.940802628521517 customer 6 departs\n",
      "11.940802628521517 customer 7 is being served\n",
      "12.904297960708202 customer 7 departs\n",
      "12.904297960708202 customer 8 is being served\n",
      "17.16596140561307 customer 8 departs\n",
      "19.908462980260456 customer 9 arrives\n",
      "19.908462980260456 customer 9 is being served\n",
      "21.261657452011388 customer 9 departs\n",
      "21.768489024084687 customer 10 arrives\n",
      "21.768489024084687 customer 10 is being served\n",
      "21.981857751417298 customer 10 departs\n",
      "22.16650832333884 customer 4 departs\n",
      "31.253560086633634 customer 11 arrives\n",
      "31.253560086633634 customer 11 is being served\n",
      "33.165984815297094 customer 11 departs\n",
      "34.225883680131325 customer 12 arrives\n",
      "34.225883680131325 customer 12 is being served\n",
      "36.46325348205164 customer 12 departs\n",
      "39.44958599796047 customer 13 arrives\n",
      "39.44958599796047 customer 13 is being served\n",
      "40.338135621690995 customer 14 arrives\n",
      "40.338135621690995 customer 14 is being served\n",
      "44.580846015341784 customer 15 arrives\n",
      "45.72498833398267 customer 16 arrives\n",
      "49.661391535158245 customer 14 departs\n",
      "49.661391535158245 customer 15 is being served\n",
      "53.44276721763746 customer 15 departs\n",
      "53.44276721763746 customer 16 is being served\n",
      "62.39229804906479 customer 17 arrives\n",
      "64.69372147705695 customer 18 arrives\n",
      "65.09927800994217 customer 19 arrives\n",
      "65.10643196228136 customer 13 departs\n",
      "65.10643196228136 customer 17 is being served\n",
      "66.46317618841779 customer 20 arrives\n",
      "74.66420497068287 customer 21 arrives\n",
      "76.39187824561543 customer 16 departs\n",
      "76.39187824561543 customer 18 is being served\n",
      "77.80240166022078 customer 5 departs\n",
      "77.80240166022078 customer 19 is being served\n",
      "82.46416350769722 customer 22 arrives\n",
      "84.26814769897895 customer 18 departs\n",
      "84.26814769897895 customer 20 is being served\n",
      "84.58579882438387 customer 19 departs\n",
      "84.58579882438387 customer 21 is being served\n",
      "85.93093888819207 customer 17 departs\n",
      "85.93093888819207 customer 22 is being served\n",
      "86.10215814385785 customer 23 arrives\n",
      "86.60450124489512 customer 22 departs\n",
      "86.60450124489512 customer 23 is being served\n",
      "88.60172846660946 customer 24 arrives\n",
      "91.64976045925336 customer 23 departs\n",
      "91.64976045925336 customer 24 is being served\n",
      "97.79845771001979 customer 20 departs\n",
      "102.783329901446 customer 21 departs\n",
      "103.24541641479152 customer 25 arrives\n",
      "103.24541641479152 customer 25 is being served\n",
      "104.22580271517323 customer 25 departs\n",
      "106.68662505374365 customer 26 arrives\n",
      "106.68662505374365 customer 26 is being served\n",
      "111.07923491834518 customer 24 departs\n",
      "115.26187414636973 customer 27 arrives\n",
      "115.26187414636973 customer 27 is being served\n",
      "116.46045501428995 customer 28 arrives\n",
      "116.46045501428995 customer 28 is being served\n",
      "117.92810882241346 customer 26 departs\n",
      "118.34055788744348 customer 28 departs\n",
      "119.04406824141707 customer 27 departs\n"
     ]
    }
   ],
   "source": [
    "env.run(until=SIMULATION_TIME3)"
   ]
  },
  {
   "cell_type": "code",
   "execution_count": 13,
   "metadata": {},
   "outputs": [
    {
     "name": "stdout",
     "output_type": "stream",
     "text": [
      "Customers_handled (3 server): 24\n",
      "Customers_arrived (3 server): 28\n",
      "CustomerID_with_service (3 server): 28\n",
      "Length of queue (3 server): 0\n",
      "Average Customer Wait time (3 server): 11.973393956646342\n"
     ]
    },
    {
     "data": {
      "text/plain": [
       "Text(0.5, 1.0, 'LENGTH OF QUEUE AT GIVEN TIME - 3 SERVER MODEL')"
      ]
     },
     "execution_count": 13,
     "metadata": {},
     "output_type": "execute_result"
    },
    {
     "data": {
      "image/png": "[encoded data removed]",
      "text/plain": [
       "<Figure size 432x288 with 1 Axes>"
      ]
     },
     "metadata": {
      "needs_background": "light"
     },
     "output_type": "display_data"
    },
    {
     "data": {
      "image/png": "[encoded data removed]",
      "text/plain": [
       "<Figure size 432x288 with 1 Axes>"
      ]
     },
     "metadata": {
      "needs_background": "light"
     },
     "output_type": "display_data"
    }
   ],
   "source": [
    "print(\"Customers_handled (3 server): \" +str(customers_handled3))\n",
    "print(\"Customers_arrived (3 server): \" +str(customers_arrived3))\n",
    "print(\"CustomerID_with_service (3 server): \" +str(customer_with_server3))\n",
    "print(\"Length of queue (3 server): \" +str(customers_arrived3-customer_with_server3))\n",
    "print(\"Average Customer Wait time (3 server): \" +str(sum(wait_t)/customers_handled3))\n",
    "\n",
    "plt.figure()\n",
    "plt.hist(wait_t)\n",
    "plt.xlabel('Waiting time (min)')\n",
    "plt.ylabel('Number of Customer')\n",
    "plt.title(\"WAITING TIME OF CUSTOMERS - 3 SERVER MODEL\")\n",
    "\n",
    "plt.figure()\n",
    "plt.step(obs_times,q_length,where='post')\n",
    "plt.xlabel('Time(min)')\n",
    "plt.ylabel('Queue Length')\n",
    "plt.title(\"LENGTH OF QUEUE AT GIVEN TIME - 3 SERVER MODEL\")\n",
    "\n"
   ]
  },
  {
   "cell_type": "markdown",
   "metadata": {},
   "source": [
    "The model with 3 servers reduces the wait time and the queue length to a reasonable, comfortable amount.  "
   ]
  },
  {
   "cell_type": "markdown",
   "metadata": {},
   "source": [
    "**Justify the validity of the model and discuss how you verified it.**"
   ]
  },
  {
   "cell_type": "markdown",
   "metadata": {},
   "source": [
    "The problem of understanding DMV wait times is a subject that has been carefully scrutinized.  Does the conceptual model represent the real system accurately?\n",
    "\n",
    "\"Validation is the process of comparing two results. In this process, we need to compare the representation of a conceptual model to the real system. If the comparison is true, then it is valid, else invalid.\"  The flow charts depict the flow of customers in the actual system and the model follows this flow.  The model's key assumptions lie in the rates of customers arriving and customers serviced.  We have assumed these parameters based on educated guesses and research as part of the validation.  The model is built so that these parameters can be adjusted as well.   \n",
    "\n",
    "\"Verification is the process of comparing two or more results to ensure its accuracy. In this process, we have to compare the model’s implementation and its associated data with the developer's conceptual description and specifications.\"  Although a random seed was set for descriptive and illustrative purposes, the simulations were run several times with consistent results assuring verification.  Again, the model was built with the ability to change parameters:  simulation time, servers, customer arrival time, service time.\n",
    "\n",
    "\n",
    "ref:  https://www.tutorialspoint.com/modelling_and_simulation/modelling_and_simulation_verification_validation.htm"
   ]
  },
  {
   "cell_type": "markdown",
   "metadata": {},
   "source": [
    "**State  your conclusions/ findings from the model.** "
   ]
  },
  {
   "cell_type": "markdown",
   "metadata": {},
   "source": [
    "Conclusions:\n",
    "\n",
    "This model does accomplish the goal of simulating the queue at a DMV.  The model was run with 1,2 and 3 servers. Reviewing the results of the simulations, it can be concluded that a 3 server configuration adequately serves the customers. \n",
    "\n",
    "From California's DMV blog:  \"DMV’s existing goals are for wait times (amount of time in the queue) to not exceed 45 minutes for customers without an appointment or 15 minutes for customers with an appointment. \"\n",
    "\n",
    "In conclusion, it is apparent the 3 server configuration meets this goal.  Future endeavors could improve this simpler model by adding servers periodically, modifying to allow for appointment/non-appointment queues, changing arrival time distribution throughout the day to name a few.\n",
    "\n",
    "\n",
    "\n",
    "\n",
    "\n",
    "Be sure that your code works!"
   ]
  }
 ],
 "metadata": {
  "kernelspec": {
   "display_name": "Python 3",
   "language": "python",
   "name": "python3"
  },
  "language_info": {
   "codemirror_mode": {
    "name": "ipython",
    "version": 3
   },
   "file_extension": ".py",
   "mimetype": "text/x-python",
   "name": "python",
   "nbconvert_exporter": "python",
   "pygments_lexer": "ipython3",
   "version": "3.8.5"
  }
 },
 "nbformat": 4,
 "nbformat_minor": 4
}
